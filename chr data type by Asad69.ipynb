{
 "cells": [
  {
   "cell_type": "code",
   "execution_count": 1,
   "metadata": {},
   "outputs": [
    {
     "data": {
      "text/plain": [
       "['__add__',\n",
       " '__class__',\n",
       " '__contains__',\n",
       " '__delattr__',\n",
       " '__dir__',\n",
       " '__doc__',\n",
       " '__eq__',\n",
       " '__format__',\n",
       " '__ge__',\n",
       " '__getattribute__',\n",
       " '__getitem__',\n",
       " '__getnewargs__',\n",
       " '__gt__',\n",
       " '__hash__',\n",
       " '__init__',\n",
       " '__init_subclass__',\n",
       " '__iter__',\n",
       " '__le__',\n",
       " '__len__',\n",
       " '__lt__',\n",
       " '__mod__',\n",
       " '__mul__',\n",
       " '__ne__',\n",
       " '__new__',\n",
       " '__reduce__',\n",
       " '__reduce_ex__',\n",
       " '__repr__',\n",
       " '__rmod__',\n",
       " '__rmul__',\n",
       " '__setattr__',\n",
       " '__sizeof__',\n",
       " '__str__',\n",
       " '__subclasshook__',\n",
       " 'capitalize',\n",
       " 'casefold',\n",
       " 'center',\n",
       " 'count',\n",
       " 'encode',\n",
       " 'endswith',\n",
       " 'expandtabs',\n",
       " 'find',\n",
       " 'format',\n",
       " 'format_map',\n",
       " 'index',\n",
       " 'isalnum',\n",
       " 'isalpha',\n",
       " 'isascii',\n",
       " 'isdecimal',\n",
       " 'isdigit',\n",
       " 'isidentifier',\n",
       " 'islower',\n",
       " 'isnumeric',\n",
       " 'isprintable',\n",
       " 'isspace',\n",
       " 'istitle',\n",
       " 'isupper',\n",
       " 'join',\n",
       " 'ljust',\n",
       " 'lower',\n",
       " 'lstrip',\n",
       " 'maketrans',\n",
       " 'partition',\n",
       " 'replace',\n",
       " 'rfind',\n",
       " 'rindex',\n",
       " 'rjust',\n",
       " 'rpartition',\n",
       " 'rsplit',\n",
       " 'rstrip',\n",
       " 'split',\n",
       " 'splitlines',\n",
       " 'startswith',\n",
       " 'strip',\n",
       " 'swapcase',\n",
       " 'title',\n",
       " 'translate',\n",
       " 'upper',\n",
       " 'zfill']"
      ]
     },
     "execution_count": 1,
     "metadata": {},
     "output_type": "execute_result"
    }
   ],
   "source": []
  },
  {
   "cell_type": "code",
   "execution_count": 2,
   "metadata": {},
   "outputs": [
    {
     "name": "stdout",
     "output_type": "stream",
     "text": [
      "asad ullah\n"
     ]
    }
   ],
   "source": [
    "#Alpahbet of string to lower-case\n",
    "name = \"Asad ullah\"\n",
    "print(name.casefold())"
   ]
  },
  {
   "cell_type": "code",
   "execution_count": 3,
   "metadata": {},
   "outputs": [
    {
     "name": "stdout",
     "output_type": "stream",
     "text": [
      "Asad ullah\n"
     ]
    }
   ],
   "source": [
    "#capitialize  First alphabet of string\n",
    "name = \"Asad Ullah\"\n",
    "print(name.capitalize())"
   ]
  },
  {
   "cell_type": "code",
   "execution_count": 6,
   "metadata": {},
   "outputs": [
    {
     "name": "stdout",
     "output_type": "stream",
     "text": [
      "                         Asad ullah                         \n"
     ]
    }
   ],
   "source": [
    "#Space 60 white space-character in the string from left to right\n",
    "name = \"Asad ullah\"\n",
    "print(name.center(60))"
   ]
  },
  {
   "cell_type": "code",
   "execution_count": 8,
   "metadata": {},
   "outputs": [
    {
     "name": "stdout",
     "output_type": "stream",
     "text": [
      "2\n"
     ]
    }
   ],
   "source": [
    "#Counts of specific alphabet & print the  total amount of  alphabet which is repeated in the string\n",
    "\n",
    "name = \"Asad ullah\"\n",
    "print(name.count('a'))"
   ]
  },
  {
   "cell_type": "code",
   "execution_count": 9,
   "metadata": {},
   "outputs": [
    {
     "name": "stdout",
     "output_type": "stream",
     "text": [
      "b'ASad Ullah'\n"
     ]
    }
   ],
   "source": [
    "name = \"ASad Ullah\"\n",
    "print(name.encode())\n"
   ]
  },
  {
   "cell_type": "code",
   "execution_count": 11,
   "metadata": {},
   "outputs": [
    {
     "name": "stdout",
     "output_type": "stream",
     "text": [
      "Asad Ullah\n"
     ]
    }
   ],
   "source": [
    "name = \"Asad Ullah\"\n",
    "print(name.title())"
   ]
  },
  {
   "cell_type": "code",
   "execution_count": 15,
   "metadata": {},
   "outputs": [
    {
     "name": "stdout",
     "output_type": "stream",
     "text": [
      "True\n",
      "False\n"
     ]
    }
   ],
   "source": [
    "name = \"Asad Ullah\"\n",
    "print(name.startswith('A'))# Returns the bool value true or false after comparing with last alphabet of string\n",
    "name = \"Asad ullah\"\n",
    "print(name.startswith('a')) # Returns false bcz ending alphabet is not \"d\""
   ]
  },
  {
   "cell_type": "code",
   "execution_count": 1,
   "metadata": {},
   "outputs": [
    {
     "name": "stdout",
     "output_type": "stream",
     "text": [
      "\n"
     ]
    }
   ],
   "source": []
  },
  {
   "cell_type": "code",
   "execution_count": 2,
   "metadata": {},
   "outputs": [
    {
     "name": "stdout",
     "output_type": "stream",
     "text": [
      "Asad Ullah\n"
     ]
    }
   ],
   "source": [
    "name = \"Asad Ullah\"\n",
    "print(name.expandtabs(5))#it gives the space between the character of string default size is 8"
   ]
  },
  {
   "cell_type": "code",
   "execution_count": 3,
   "metadata": {},
   "outputs": [
    {
     "name": "stdout",
     "output_type": "stream",
     "text": [
      "5\n"
     ]
    }
   ],
   "source": [
    "name = \"Asad Ullah\"\n",
    "print(name.find('U'))#Tells the index number of a specific character in string"
   ]
  },
  {
   "cell_type": "code",
   "execution_count": 6,
   "metadata": {},
   "outputs": [
    {
     "name": "stdout",
     "output_type": "stream",
     "text": [
      "\n",
      "name = Asad Ullah\n",
      "father_name = Muhammad Rehman\n",
      "program = Artificiall Intelligence\n",
      "\n",
      "\n",
      "program = Artificiall Intelligence\n",
      "name = Asad Ullah\n",
      "father_name = Muhammad Rehman\n",
      "\n"
     ]
    }
   ],
   "source": [
    "name = \"Asad Ullah\"\n",
    "father_name = \"Muhammad Rehman\"\n",
    "program=\"Artificiall Intelligence\"\n",
    "\n",
    "card= \"\"\"\n",
    "name = {}\n",
    "father_name = {}\n",
    "program = {}\n",
    "\"\"\"\n",
    "print(card.format(name,father_name,program))#Format to print the string sequence according to our desire or wish\n",
    "\n",
    "name = \"Asad Ullah\"\n",
    "father_name = \"Muhammad Rehman\"\n",
    "program=\"Artificiall Intelligence\"\n",
    "\n",
    "card= \"\"\"\n",
    "program = {}\n",
    "name = {}\n",
    "father_name = {}\n",
    "\"\"\"\n",
    "print(card.format(program,name,father_name))#Changed the sequence of the string according to choice"
   ]
  },
  {
   "cell_type": "code",
   "execution_count": 7,
   "metadata": {},
   "outputs": [
    {
     "name": "stdout",
     "output_type": "stream",
     "text": [
      "Asad Ullah\n",
      "4 5\n"
     ]
    }
   ],
   "source": [
    "name={\"first_name\":\"Asad\",\"last_name\":\"Ullah\"}\n",
    "print(\"{first_name} {last_name}\".format_map(name))#Map the element of string together\n",
    "name={\"first_number\":4,\"last_number\":5}\n",
    "print(\"{first_number} {last_number}\".format_map(name))#Map the element of string together"
   ]
  },
  {
   "cell_type": "code",
   "execution_count": 8,
   "metadata": {},
   "outputs": [
    {
     "name": "stdout",
     "output_type": "stream",
     "text": [
      "3\n"
     ]
    }
   ],
   "source": [
    "name = \"Asad Ullah\"\n",
    "print(name.index(\"d\"))#Return the index number of a specific character in the string"
   ]
  },
  {
   "cell_type": "code",
   "execution_count": 9,
   "metadata": {},
   "outputs": [
    {
     "name": "stdout",
     "output_type": "stream",
     "text": [
      "False\n",
      "True\n"
     ]
    }
   ],
   "source": [
    "name = \"Asad Ullah\"\n",
    "print(name.isalnum())#Returns bool value true or false after checking that string is alphanumeric or not \n",
    "name=\"Asad69\"\n",
    "print(name.isalnum())"
   ]
  },
  {
   "cell_type": "code",
   "execution_count": 10,
   "metadata": {},
   "outputs": [
    {
     "name": "stdout",
     "output_type": "stream",
     "text": [
      "False\n",
      "True\n"
     ]
    }
   ],
   "source": [
    "name = \"Asad Ullah\"\n",
    "print(name.isalpha())#Returns bool value depends upon the condition that string has white-space-character or not\n",
    "name=\"Asadullah\"\n",
    "print(name.isalpha())#Returns false bcz it has one white space character"
   ]
  },
  {
   "cell_type": "code",
   "execution_count": 11,
   "metadata": {},
   "outputs": [
    {
     "name": "stdout",
     "output_type": "stream",
     "text": [
      "True\n",
      "False\n",
      "True\n"
     ]
    }
   ],
   "source": [
    "name=\"Asad Ullah\"\n",
    "print(name.isascii())#Returns true if the string character has ascii values else false\n",
    "name=\"Asad Ullah©©®>Π Hadi\"\n",
    "print(name.isascii())\n",
    "name=\"Asad Ullah\"\n",
    "print(name.isascii())\n"
   ]
  },
  {
   "cell_type": "code",
   "execution_count": null,
   "metadata": {},
   "outputs": [],
   "source": [
    "name=\"Asad Ullah\"\n",
    "print(name.rfind(\"d\"))\n",
    "print(name.rfind(\"z\"))"
   ]
  }
 ],
 "metadata": {
  "kernelspec": {
   "display_name": "Python 3",
   "language": "python",
   "name": "python3"
  },
  "language_info": {
   "codemirror_mode": {
    "name": "ipython",
    "version": 3
   },
   "file_extension": ".py",
   "mimetype": "text/x-python",
   "name": "python",
   "nbconvert_exporter": "python",
   "pygments_lexer": "ipython3",
   "version": "3.7.4"
  }
 },
 "nbformat": 4,
 "nbformat_minor": 2
}
